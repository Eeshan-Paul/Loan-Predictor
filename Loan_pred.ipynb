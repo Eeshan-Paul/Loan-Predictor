{
 "cells": [
  {
   "cell_type": "code",
   "execution_count": null,
   "source": [
    "import numpy as np\r\n",
    "import matplotlib.pyplot as plt\r\n",
    "import pandas as pd\r\n",
    "import warnings\r\n",
    "import pickle\r\n",
    "warnings.filterwarnings(\"ignore\")\r\n",
    "import math"
   ],
   "outputs": [],
   "metadata": {}
  },
  {
   "cell_type": "code",
   "execution_count": null,
   "source": [
    "dataset = pd.read_csv('train_data.csv')\r\n",
    "# dataset=dataset.values\r\n",
    "dataset.drop(dataset.columns[[0]], axis = 1, inplace = True)\r\n",
    "dataset['Loan_Status'].replace('N', 0,inplace=True)\r\n",
    "dataset['Loan_Status'].replace('Y', 1,inplace=True)\r\n",
    "dataset['Gender'].replace('Male',1,inplace=True)\r\n",
    "dataset['Gender'].replace('Female',0,inplace=True)\r\n",
    "dataset['Married'].replace('No',0,inplace=True)\r\n",
    "dataset['Married'].replace('Yes',1,inplace=True)\r\n",
    "dataset['Dependents'].replace('3+',3,inplace=True)\r\n",
    "dataset['Education'].replace('Graduate',1,inplace=True)\r\n",
    "dataset['Education'].replace('Not Graduate',0,inplace=True)\r\n",
    "dataset['Property_Area'].replace('Urban',1,inplace=True)\r\n",
    "dataset['Property_Area'].replace('Semiurban',2,inplace=True)\r\n",
    "dataset['Property_Area'].replace('Rural',3,inplace=True)\r\n",
    "dataset['Self_Employed'].replace('Yes',1,inplace=True)\r\n",
    "dataset['Self_Employed'].replace('No',0,inplace=True)\r\n",
    "dataset['Gender'].fillna(dataset['Gender'].mode()[0], inplace=True)\r\n",
    "dataset['Married'].fillna(dataset['Married'].mode()[0], inplace=True)\r\n",
    "dataset['Dependents'].fillna(dataset['Dependents'].mode()[0], inplace=True)\r\n",
    "dataset['Self_Employed'].fillna(dataset['Self_Employed'].mode()[0], inplace=True)\r\n",
    "dataset['LoanAmount'].fillna(dataset['LoanAmount'].median(), inplace=True)\r\n",
    "dataset['Loan_Amount_Term'].fillna(dataset['Loan_Amount_Term'].median(), inplace=True)\r\n",
    "dataset['Credit_History'].fillna(dataset['Credit_History'].mode()[0], inplace=True)\r\n",
    "# dataset=np.array(dataset)"
   ],
   "outputs": [],
   "metadata": {}
  },
  {
   "cell_type": "code",
   "execution_count": null,
   "source": [
    "X= np.array(dataset.iloc[:, :-1])\r\n",
    "Y= np.array(dataset.iloc[:, -1])"
   ],
   "outputs": [],
   "metadata": {}
  },
  {
   "cell_type": "code",
   "execution_count": null,
   "source": [
    "from sklearn.model_selection import train_test_split\r\n",
    "X_train, X_test, Y_train, Y_test = train_test_split(X, Y, test_size = 0.15, random_state = 0)"
   ],
   "outputs": [],
   "metadata": {}
  },
  {
   "cell_type": "code",
   "execution_count": null,
   "source": [
    "from sklearn.preprocessing import StandardScaler\r\n",
    "sc = StandardScaler()\r\n",
    "X_train = sc.fit_transform(X_train)\r\n",
    "X_test = sc.transform(X_test)"
   ],
   "outputs": [],
   "metadata": {}
  },
  {
   "cell_type": "code",
   "execution_count": null,
   "source": [
    "from sklearn.linear_model import LogisticRegression\r\n",
    "classifier = LogisticRegression(random_state = 0)\r\n",
    "classifier.fit(X_train, Y_train)\r\n",
    "Y_pred = classifier.predict(X_test)"
   ],
   "outputs": [],
   "metadata": {}
  }
 ],
 "metadata": {
  "orig_nbformat": 4,
  "language_info": {
   "name": "python"
  }
 },
 "nbformat": 4,
 "nbformat_minor": 2
}